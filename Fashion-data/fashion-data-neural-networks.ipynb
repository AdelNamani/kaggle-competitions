{
 "cells": [
  {
   "cell_type": "code",
   "execution_count": 1,
   "metadata": {},
   "outputs": [],
   "source": [
    "import tensorflow as tf\n",
    "from tensorflow import keras"
   ]
  },
  {
   "cell_type": "code",
   "execution_count": 2,
   "metadata": {},
   "outputs": [
    {
     "name": "stdout",
     "output_type": "stream",
     "text": [
      "Downloading data from https://storage.googleapis.com/tensorflow/tf-keras-datasets/train-labels-idx1-ubyte.gz\n",
      "32768/29515 [=================================] - 0s 2us/step\n",
      "Downloading data from https://storage.googleapis.com/tensorflow/tf-keras-datasets/train-images-idx3-ubyte.gz\n",
      "26427392/26421880 [==============================] - 139s 5us/step\n",
      "Downloading data from https://storage.googleapis.com/tensorflow/tf-keras-datasets/t10k-labels-idx1-ubyte.gz\n",
      "8192/5148 [===============================================] - 0s 0us/step\n",
      "Downloading data from https://storage.googleapis.com/tensorflow/tf-keras-datasets/t10k-images-idx3-ubyte.gz\n",
      "4423680/4422102 [==============================] - 18s 4us/step\n"
     ]
    }
   ],
   "source": [
    "(x_train, y_train), (x_val, y_val) = keras.datasets.fashion_mnist.load_data()"
   ]
  },
  {
   "cell_type": "code",
   "execution_count": 3,
   "metadata": {},
   "outputs": [],
   "source": [
    "def preprocess(x, y):\n",
    "  x = tf.cast(x, tf.float32) / 255.0\n",
    "  y = tf.cast(y, tf.int64)\n",
    "  return x, y\n",
    "\n",
    "def create_dataset(xs, ys, n_classes=10):\n",
    "  ys = tf.one_hot(ys, depth=n_classes)\n",
    "  return tf.data.Dataset.from_tensor_slices((xs, ys)) \\\n",
    "    .map(preprocess) \\\n",
    "    .shuffle(len(ys)) \\\n",
    "    .batch(128)"
   ]
  },
  {
   "cell_type": "code",
   "execution_count": 4,
   "metadata": {},
   "outputs": [],
   "source": [
    "train_dataset = create_dataset(x_train, y_train)\n",
    "val_dataset = create_dataset(x_val, y_val)"
   ]
  },
  {
   "cell_type": "code",
   "execution_count": 5,
   "metadata": {},
   "outputs": [],
   "source": [
    "model = keras.Sequential([\n",
    "    keras.layers.Reshape(target_shape=(28 * 28,), input_shape=(28, 28)),\n",
    "    keras.layers.Dense(units=256, activation='relu'),\n",
    "    keras.layers.Dense(units=192, activation='relu'),\n",
    "    keras.layers.Dense(units=128, activation='relu'),\n",
    "    keras.layers.Dense(units=10, activation='softmax')\n",
    "])"
   ]
  },
  {
   "cell_type": "code",
   "execution_count": 6,
   "metadata": {},
   "outputs": [
    {
     "name": "stdout",
     "output_type": "stream",
     "text": [
      "Train for 500 steps, validate for 2 steps\n",
      "Epoch 1/10\n",
      "500/500 [==============================] - 6s 12ms/step - loss: 1.7022 - accuracy: 0.7650 - val_loss: 1.6392 - val_accuracy: 0.8281\n",
      "Epoch 2/10\n",
      "500/500 [==============================] - 5s 10ms/step - loss: 1.6401 - accuracy: 0.8216 - val_loss: 1.6710 - val_accuracy: 0.7930\n",
      "Epoch 3/10\n",
      "500/500 [==============================] - 6s 13ms/step - loss: 1.6193 - accuracy: 0.8420 - val_loss: 1.5903 - val_accuracy: 0.8750\n",
      "Epoch 4/10\n",
      "500/500 [==============================] - 6s 12ms/step - loss: 1.6084 - accuracy: 0.8524 - val_loss: 1.6371 - val_accuracy: 0.8203\n",
      "Epoch 5/10\n",
      "500/500 [==============================] - 7s 13ms/step - loss: 1.6013 - accuracy: 0.8599 - val_loss: 1.6185 - val_accuracy: 0.8438\n",
      "Epoch 6/10\n",
      "500/500 [==============================] - 6s 12ms/step - loss: 1.6014 - accuracy: 0.8598 - val_loss: 1.5938 - val_accuracy: 0.8711\n",
      "Epoch 7/10\n",
      "500/500 [==============================] - 6s 11ms/step - loss: 1.5958 - accuracy: 0.8650 - val_loss: 1.6160 - val_accuracy: 0.8438\n",
      "Epoch 8/10\n",
      "500/500 [==============================] - 6s 11ms/step - loss: 1.5966 - accuracy: 0.8639 - val_loss: 1.5745 - val_accuracy: 0.8867\n",
      "Epoch 9/10\n",
      "500/500 [==============================] - 5s 11ms/step - loss: 1.5901 - accuracy: 0.8708 - val_loss: 1.6242 - val_accuracy: 0.8398\n",
      "Epoch 10/10\n",
      "500/500 [==============================] - 6s 12ms/step - loss: 1.5898 - accuracy: 0.8709 - val_loss: 1.6050 - val_accuracy: 0.8516\n"
     ]
    }
   ],
   "source": [
    "model.compile(optimizer='adam', \n",
    "              loss=tf.losses.CategoricalCrossentropy(from_logits=True),\n",
    "              metrics=['accuracy'])\n",
    "\n",
    "history = model.fit(\n",
    "    train_dataset.repeat(), \n",
    "    epochs=10, \n",
    "    steps_per_epoch=500,\n",
    "    validation_data=val_dataset.repeat(), \n",
    "    validation_steps=2\n",
    ")"
   ]
  },
  {
   "cell_type": "code",
   "execution_count": 12,
   "metadata": {},
   "outputs": [
    {
     "data": {
      "text/plain": [
       "array([[1.9278690e-09, 3.4556641e-12, 9.3269065e-21, ..., 1.6218377e-20,\n",
       "        7.9097800e-15, 5.8199265e-15],\n",
       "       [7.0153397e-11, 7.9746387e-09, 9.9999988e-01, ..., 1.3156461e-12,\n",
       "        1.1792189e-07, 8.0918811e-17],\n",
       "       [9.9958652e-01, 4.0543827e-04, 1.6399834e-08, ..., 7.5970439e-09,\n",
       "        1.6763241e-08, 1.6014641e-07],\n",
       "       ...,\n",
       "       [1.5513769e-10, 1.0470096e-12, 3.8800562e-16, ..., 1.0000000e+00,\n",
       "        1.1387511e-08, 1.3016335e-12],\n",
       "       [3.3407903e-30, 0.0000000e+00, 2.6473563e-28, ..., 2.9416539e-30,\n",
       "        5.0572662e-24, 9.2392079e-25],\n",
       "       [1.6515025e-24, 1.4187717e-32, 3.5361581e-26, ..., 3.3701475e-26,\n",
       "        3.7973083e-17, 3.3709147e-21]], dtype=float32)"
      ]
     },
     "execution_count": 12,
     "metadata": {},
     "output_type": "execute_result"
    }
   ],
   "source": [
    "predictions = model.predict(val_dataset)\n",
    "predictions"
   ]
  },
  {
   "cell_type": "code",
   "execution_count": 13,
   "metadata": {},
   "outputs": [
    {
     "data": {
      "text/plain": [
       "3"
      ]
     },
     "execution_count": 13,
     "metadata": {},
     "output_type": "execute_result"
    }
   ],
   "source": [
    "import numpy as np\n",
    "np.argmax(predictions[0])"
   ]
  },
  {
   "cell_type": "code",
   "execution_count": null,
   "metadata": {},
   "outputs": [],
   "source": []
  }
 ],
 "metadata": {
  "kernelspec": {
   "display_name": "Python 3",
   "language": "python",
   "name": "python3"
  },
  "language_info": {
   "codemirror_mode": {
    "name": "ipython",
    "version": 3
   },
   "file_extension": ".py",
   "mimetype": "text/x-python",
   "name": "python",
   "nbconvert_exporter": "python",
   "pygments_lexer": "ipython3",
   "version": "3.7.4"
  }
 },
 "nbformat": 4,
 "nbformat_minor": 2
}
